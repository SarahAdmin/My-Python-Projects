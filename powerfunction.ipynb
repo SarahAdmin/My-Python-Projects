{
  "nbformat": 4,
  "nbformat_minor": 0,
  "metadata": {
    "colab": {
      "provenance": [],
      "toc_visible": true,
      "authorship_tag": "ABX9TyP2WbBIQTd1zWdCAM/OTjBq",
      "include_colab_link": true
    },
    "kernelspec": {
      "name": "python3",
      "display_name": "Python 3"
    },
    "language_info": {
      "name": "python"
    }
  },
  "cells": [
    {
      "cell_type": "markdown",
      "metadata": {
        "id": "view-in-github",
        "colab_type": "text"
      },
      "source": [
        "<a href=\"https://colab.research.google.com/github/SarahAdmin/My-Python-Projects/blob/main/powerfunction.ipynb\" target=\"_parent\"><img src=\"https://colab.research.google.com/assets/colab-badge.svg\" alt=\"Open In Colab\"/></a>"
      ]
    },
    {
      "cell_type": "code",
      "execution_count": 6,
      "metadata": {
        "colab": {
          "base_uri": "https://localhost:8080/"
        },
        "id": "_gaQ0wvMFdh1",
        "outputId": "26fd013a-13e7-43ee-b540-0f2fdc62fe01"
      },
      "outputs": [
        {
          "output_type": "stream",
          "name": "stdout",
          "text": [
            "4\n",
            "16\n",
            "64\n",
            "256\n",
            "1024\n",
            "4096\n",
            "16384\n",
            "65536\n"
          ]
        }
      ],
      "source": [
        "def PoweredNumbers(num):\n",
        "  return pow(num,2)\n",
        "print(PoweredNumbers(2))\n",
        "print(PoweredNumbers(4))\n",
        "print(PoweredNumbers(8))\n",
        "print(PoweredNumbers(16))\n",
        "print(PoweredNumbers(32))\n",
        "print(PoweredNumbers(64))\n",
        "print(PoweredNumbers(128))\n",
        "print(PoweredNumbers(256))"
      ]
    },
    {
      "cell_type": "code",
      "source": [
        "class Student:\n",
        "  def __init__(self,name,course,level):\n",
        "    self.name = name\n",
        "    self.course = course\n",
        "    self.level = level\n",
        "\n",
        "  def EnrolStudent(self):\n",
        "    print('Name: '+ self.name)\n",
        "    print('Course: '+ self.course)\n",
        "    print('Level: '+ self.level)\n",
        "\n",
        "paramOne = Student('Lemon Jelly','ICT','2')\n",
        "paramOne.EnrolStudent()\n",
        "\n",
        "paramTwo = Student('Matt Bond','Media','3')\n",
        "paramTwo.EnrolStudent()\n"
      ],
      "metadata": {
        "colab": {
          "base_uri": "https://localhost:8080/"
        },
        "id": "VF4_WWWIH4dV",
        "outputId": "c43ced71-55b8-4311-894a-31d3e3edb227"
      },
      "execution_count": 3,
      "outputs": [
        {
          "output_type": "stream",
          "name": "stdout",
          "text": [
            "Name: Lemon Jelly\n",
            "Course: ICT\n",
            "Level: 2\n",
            "Name: Matt Bond\n",
            "Course: Media\n",
            "Level: 3\n"
          ]
        }
      ]
    },
    {
      "cell_type": "code",
      "source": [
        "import numpy as np\n",
        "arr = np.array([1,2,3,4,5])\n",
        "print(arr)"
      ],
      "metadata": {
        "colab": {
          "base_uri": "https://localhost:8080/"
        },
        "id": "-D8gnO3ZIQvO",
        "outputId": "7410c57d-ad0c-4f5a-93b8-4fb2c632835d"
      },
      "execution_count": 5,
      "outputs": [
        {
          "output_type": "stream",
          "name": "stdout",
          "text": [
            "[1 2 3 4 5]\n"
          ]
        }
      ]
    }
  ]
}