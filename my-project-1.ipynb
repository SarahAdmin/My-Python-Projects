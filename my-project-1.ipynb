{
  "nbformat": 4,
  "nbformat_minor": 0,
  "metadata": {
    "colab": {
      "provenance": [],
      "authorship_tag": "ABX9TyNsr6j/fzgsrIKDc3vONPGv",
      "include_colab_link": true
    },
    "kernelspec": {
      "name": "python3",
      "display_name": "Python 3"
    },
    "language_info": {
      "name": "python"
    }
  },
  "cells": [
    {
      "cell_type": "markdown",
      "metadata": {
        "id": "view-in-github",
        "colab_type": "text"
      },
      "source": [
        "<a href=\"https://colab.research.google.com/github/SarahAdmin/My-Python-Projects/blob/main/my-project-1.ipynb\" target=\"_parent\"><img src=\"https://colab.research.google.com/assets/colab-badge.svg\" alt=\"Open In Colab\"/></a>"
      ]
    },
    {
      "cell_type": "code",
      "execution_count": 2,
      "metadata": {
        "colab": {
          "base_uri": "https://localhost:8080/"
        },
        "id": "3VgNSY2xKiqs",
        "outputId": "209ee210-f296-4f60-d025-4525c39e3803"
      },
      "outputs": [
        {
          "output_type": "stream",
          "name": "stdout",
          "text": [
            "Make:   Toyota\n",
            "Model:   Yaris\n",
            "Colour:  White\n",
            "Year:  2024\n"
          ]
        }
      ],
      "source": [
        "class Car:\n",
        "  def __init__(self, make, model, colour, year):\n",
        "    self.make = make\n",
        "    self.model = model\n",
        "    self.colour = colour\n",
        "    self.year = year\n",
        "\n",
        "  def MyCar(self):\n",
        "    print('Make:   '+self.make)\n",
        "    print('Model:   '+self.model)\n",
        "    print('Colour:  '+self.colour)\n",
        "    print('Year:  '+self.year)\n",
        "\n",
        "\n",
        "p1 = Car('Toyota','Yaris','White','2024')\n",
        "\n",
        "p1.MyCar()"
      ]
    },
    {
      "cell_type": "code",
      "source": [
        "import numpy as np\n",
        "arr2 = np.array([[1,2,3],[4,5,6]])\n",
        "print(arr2)"
      ],
      "metadata": {
        "colab": {
          "base_uri": "https://localhost:8080/"
        },
        "id": "c5k1SrCJLeO5",
        "outputId": "994116a3-3595-4705-9050-48fcdabdbda2"
      },
      "execution_count": 3,
      "outputs": [
        {
          "output_type": "stream",
          "name": "stdout",
          "text": [
            "[[1 2 3]\n",
            " [4 5 6]]\n"
          ]
        }
      ]
    },
    {
      "cell_type": "code",
      "source": [
        "import numpy as np\n",
        "arr3 = np.array([[[1,2,3],[4,5,6],[7,8,9]]])\n",
        "print(arr3)"
      ],
      "metadata": {
        "colab": {
          "base_uri": "https://localhost:8080/"
        },
        "id": "XbjZXmmKLrGU",
        "outputId": "b3b614ea-06b2-40be-a9b4-93b8dec4eab3"
      },
      "execution_count": 5,
      "outputs": [
        {
          "output_type": "stream",
          "name": "stdout",
          "text": [
            "[[[1 2 3]\n",
            "  [4 5 6]\n",
            "  [7 8 9]]]\n"
          ]
        }
      ]
    },
    {
      "cell_type": "code",
      "source": [
        "def LeapYears(year):\n",
        "  return year % 4 == 0\n",
        "print(LeapYears(1980))\n",
        "print(LeapYears(1996))\n",
        "print(LeapYears(1994))\n",
        "print(LeapYears(1995))\n",
        "print(LeapYears(2025))\n",
        "print(LeapYears(2008))\n"
      ],
      "metadata": {
        "colab": {
          "base_uri": "https://localhost:8080/"
        },
        "id": "PswKlNv6L9YA",
        "outputId": "e1a463d9-704c-4237-f072-442ac26bbb65"
      },
      "execution_count": 7,
      "outputs": [
        {
          "output_type": "stream",
          "name": "stdout",
          "text": [
            "True\n",
            "True\n",
            "False\n",
            "False\n",
            "False\n",
            "True\n"
          ]
        }
      ]
    }
  ]
}